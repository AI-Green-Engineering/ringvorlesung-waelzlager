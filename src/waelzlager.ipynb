{
 "cells": [
  {
   "cell_type": "code",
   "execution_count": 1,
   "id": "c345e2c1-df21-40d6-9780-3de77c41480a",
   "metadata": {},
   "outputs": [
    {
     "data": {
      "text/plain": [
       "array([[array([[ 0.718744 ],\n",
       "               [ 0.4493211],\n",
       "               [-0.975775 ],\n",
       "               ...,\n",
       "               [ 0.907281 ],\n",
       "               [ 2.090778 ],\n",
       "               [ 1.042275 ]])]], dtype=object)"
      ]
     },
     "execution_count": 1,
     "metadata": {},
     "output_type": "execute_result"
    }
   ],
   "source": [
    "import pandas as pd\n",
    "from scipy.io import loadmat\n",
    "\n",
    "# Load the MATLAB file\n",
    "#mat_data = loadmat('assets/data/1 - Three Baseline Conditions/baseline_3.mat')\n",
    "mat_data = loadmat('assets/data/2 - Three Outer Race Fault Conditions/OuterRaceFault_3.mat')\n",
    "\n",
    "# Explore the keys in the .mat file\n",
    "#print(mat_data.keys())\n",
    "\n",
    "bearing_data = mat_data['bearing']"
   ]
  },
  {
   "cell_type": "code",
   "execution_count": 13,
   "id": "cbdcfcc7-bffb-485d-81bd-676ec953faf4",
   "metadata": {},
   "outputs": [
    {
     "name": "stdout",
     "output_type": "stream",
     "text": [
      "Main Data: [[ 0.718744 ]\n",
      " [ 0.4493211]\n",
      " [-0.975775 ]\n",
      " ...\n",
      " [ 0.907281 ]\n",
      " [ 2.090778 ]\n",
      " [ 1.042275 ]]\n",
      "Abtastrate: [[array([[97656]], dtype=int32)]]\n",
      "Eingangswellenrate: [[array([[25]], dtype=uint8)]]\n",
      "Ausgeübte Last: [[array([[270]], dtype=uint16)]]\n"
     ]
    }
   ],
   "source": [
    "# Extract individual components\n",
    "main_data = bearing_data[\"gs\"][0,0]   # The main signal data (array)\n",
    "sampling_rate = bearing_data[\"sr\"] \n",
    "rate = bearing_data[\"rate\"] \n",
    "load = bearing_data[\"load\"] \n",
    "\n",
    "# Inspect the main data and metadata\n",
    "print(\"Main Data:\", main_data)\n",
    "print(\"Abtastrate:\", sampling_rate) # x s[samples]ps, 6 seconds\n",
    "print(\"Eingangswellenrate:\", rate) # x Hz\n",
    "print(\"Ausgeübte Last:\", load) # x lbs (= pounds)"
   ]
  },
  {
   "cell_type": "code",
   "execution_count": 14,
   "id": "48c20cf2-9687-49fa-ae8d-94d6362ef318",
   "metadata": {},
   "outputs": [
    {
     "data": {
      "text/html": [
       "<div>\n",
       "<style scoped>\n",
       "    .dataframe tbody tr th:only-of-type {\n",
       "        vertical-align: middle;\n",
       "    }\n",
       "\n",
       "    .dataframe tbody tr th {\n",
       "        vertical-align: top;\n",
       "    }\n",
       "\n",
       "    .dataframe thead th {\n",
       "        text-align: right;\n",
       "    }\n",
       "</style>\n",
       "<table border=\"1\" class=\"dataframe\">\n",
       "  <thead>\n",
       "    <tr style=\"text-align: right;\">\n",
       "      <th></th>\n",
       "      <th>Signal</th>\n",
       "    </tr>\n",
       "  </thead>\n",
       "  <tbody>\n",
       "    <tr>\n",
       "      <th>0</th>\n",
       "      <td>0.718744</td>\n",
       "    </tr>\n",
       "    <tr>\n",
       "      <th>1</th>\n",
       "      <td>0.449321</td>\n",
       "    </tr>\n",
       "    <tr>\n",
       "      <th>2</th>\n",
       "      <td>-0.975775</td>\n",
       "    </tr>\n",
       "    <tr>\n",
       "      <th>3</th>\n",
       "      <td>-0.629232</td>\n",
       "    </tr>\n",
       "    <tr>\n",
       "      <th>4</th>\n",
       "      <td>-0.841568</td>\n",
       "    </tr>\n",
       "    <tr>\n",
       "      <th>...</th>\n",
       "      <td>...</td>\n",
       "    </tr>\n",
       "    <tr>\n",
       "      <th>585931</th>\n",
       "      <td>-1.098783</td>\n",
       "    </tr>\n",
       "    <tr>\n",
       "      <th>585932</th>\n",
       "      <td>-0.367623</td>\n",
       "    </tr>\n",
       "    <tr>\n",
       "      <th>585933</th>\n",
       "      <td>0.907281</td>\n",
       "    </tr>\n",
       "    <tr>\n",
       "      <th>585934</th>\n",
       "      <td>2.090778</td>\n",
       "    </tr>\n",
       "    <tr>\n",
       "      <th>585935</th>\n",
       "      <td>1.042275</td>\n",
       "    </tr>\n",
       "  </tbody>\n",
       "</table>\n",
       "<p>585936 rows × 1 columns</p>\n",
       "</div>"
      ],
      "text/plain": [
       "          Signal\n",
       "0       0.718744\n",
       "1       0.449321\n",
       "2      -0.975775\n",
       "3      -0.629232\n",
       "4      -0.841568\n",
       "...          ...\n",
       "585931 -1.098783\n",
       "585932 -0.367623\n",
       "585933  0.907281\n",
       "585934  2.090778\n",
       "585935  1.042275\n",
       "\n",
       "[585936 rows x 1 columns]"
      ]
     },
     "execution_count": 14,
     "metadata": {},
     "output_type": "execute_result"
    }
   ],
   "source": [
    "# Convert the main data to a DataFrame\n",
    "df = pd.DataFrame(main_data, columns=['Signal'])\n",
    "df"
   ]
  },
  {
   "cell_type": "code",
   "execution_count": 15,
   "id": "1ea6a819-8ed0-4a11-a7a2-79b81200cacc",
   "metadata": {},
   "outputs": [
    {
     "data": {
      "text/plain": [
       "Signal   -6.171905\n",
       "dtype: float64"
      ]
     },
     "execution_count": 15,
     "metadata": {},
     "output_type": "execute_result"
    }
   ],
   "source": [
    "df.min()"
   ]
  },
  {
   "cell_type": "code",
   "execution_count": 16,
   "id": "d599183b-4127-45d5-82d0-2905dfd42129",
   "metadata": {},
   "outputs": [
    {
     "data": {
      "text/plain": [
       "Signal    5.56443\n",
       "dtype: float64"
      ]
     },
     "execution_count": 16,
     "metadata": {},
     "output_type": "execute_result"
    }
   ],
   "source": [
    "df.max()"
   ]
  },
  {
   "cell_type": "code",
   "execution_count": 19,
   "id": "b39c6393-7c27-4914-9d62-d1fc4fcc4d31",
   "metadata": {},
   "outputs": [
    {
     "data": {
      "text/plain": [
       "<Axes: >"
      ]
     },
     "execution_count": 19,
     "metadata": {},
     "output_type": "execute_result"
    },
    {
     "data": {
      "image/png": "[encoded data removed]",
      "text/plain": [
       "<Figure size 640x480 with 1 Axes>"
      ]
     },
     "metadata": {},
     "output_type": "display_data"
    }
   ],
   "source": [
    "df.loc[:9766].plot()"
   ]
  },
  {
   "cell_type": "code",
   "execution_count": 54,
   "id": "d2d3b66e-807f-4718-adb4-94559ea23327",
   "metadata": {},
   "outputs": [
    {
     "data": {
      "text/plain": [
       "array([[25]], dtype=uint8)"
      ]
     },
     "execution_count": 54,
     "metadata": {},
     "output_type": "execute_result"
    }
   ],
   "source": [
    "bearing_content[0]"
   ]
  },
  {
   "cell_type": "code",
   "execution_count": 55,
   "id": "779e74b5-094f-4581-8b23-a30b062e0db5",
   "metadata": {},
   "outputs": [
    {
     "data": {
      "text/plain": [
       "array([[270]], dtype=uint16)"
      ]
     },
     "execution_count": 55,
     "metadata": {},
     "output_type": "execute_result"
    }
   ],
   "source": [
    "bearing_content[1]"
   ]
  },
  {
   "cell_type": "code",
   "execution_count": 56,
   "id": "6ede5dcc-f30e-4800-8ffa-c35e619679e4",
   "metadata": {},
   "outputs": [
    {
     "data": {
      "text/plain": [
       "array([[ 1.301891 ],\n",
       "       [-0.6672074],\n",
       "       [-0.4034944],\n",
       "       ...,\n",
       "       [ 0.2698536],\n",
       "       [-0.3131699],\n",
       "       [ 0.3153727]])"
      ]
     },
     "execution_count": 56,
     "metadata": {},
     "output_type": "execute_result"
    }
   ],
   "source": [
    "bearing_content[2]"
   ]
  },
  {
   "cell_type": "code",
   "execution_count": 57,
   "id": "1054ae95-9fa0-4fce-9295-39ae0e8a90ef",
   "metadata": {},
   "outputs": [
    {
     "data": {
      "text/plain": [
       "array([[97656]], dtype=int32)"
      ]
     },
     "execution_count": 57,
     "metadata": {},
     "output_type": "execute_result"
    }
   ],
   "source": [
    "bearing_content[3]"
   ]
  },
  {
   "cell_type": "code",
   "execution_count": 80,
   "id": "46d39880-aad6-4218-91bc-12ed8eae9d25",
   "metadata": {},
   "outputs": [],
   "source": [
    "# Extract a structured array (example for MATLAB table)\n",
    "structured_data = mat_data['bearing']\n",
    "# Convert the structured array to a dictionary\n",
    "table_dict = {key: structured_data[key][0, 0] for key in structured_data.dtype.fields}"
   ]
  },
  {
   "cell_type": "code",
   "execution_count": 81,
   "id": "8e13c946-6f1b-4349-80ed-76c061f1db18",
   "metadata": {},
   "outputs": [
    {
     "data": {
      "text/plain": [
       "{'rate': array([[25]], dtype=uint8),\n",
       " 'load': array([[270]], dtype=uint16),\n",
       " 'gs': array([[ 0.718744 ],\n",
       "        [ 0.4493211],\n",
       "        [-0.975775 ],\n",
       "        ...,\n",
       "        [ 0.907281 ],\n",
       "        [ 2.090778 ],\n",
       "        [ 1.042275 ]]),\n",
       " 'sr': array([[97656]], dtype=int32)}"
      ]
     },
     "execution_count": 81,
     "metadata": {},
     "output_type": "execute_result"
    }
   ],
   "source": [
    "table_dict"
   ]
  },
  {
   "cell_type": "code",
   "execution_count": 84,
   "id": "a5d09ce3-035b-4901-9b90-1478af7083de",
   "metadata": {},
   "outputs": [
    {
     "data": {
      "text/plain": [
       "array([[ 0.718744 ],\n",
       "       [ 0.4493211],\n",
       "       [-0.975775 ],\n",
       "       ...,\n",
       "       [ 0.907281 ],\n",
       "       [ 2.090778 ],\n",
       "       [ 1.042275 ]])"
      ]
     },
     "execution_count": 84,
     "metadata": {},
     "output_type": "execute_result"
    }
   ],
   "source": [
    "table_dict[\"gs\"]"
   ]
  },
  {
   "cell_type": "code",
   "execution_count": null,
   "id": "31b38ddc-61b8-43e9-a4f8-5e0232a08c5e",
   "metadata": {},
   "outputs": [],
   "source": []
  }
 ],
 "metadata": {
  "kernelspec": {
   "display_name": "Python 3 (ipykernel)",
   "language": "python",
   "name": "python3"
  },
  "language_info": {
   "codemirror_mode": {
    "name": "ipython",
    "version": 3
   },
   "file_extension": ".py",
   "mimetype": "text/x-python",
   "name": "python",
   "nbconvert_exporter": "python",
   "pygments_lexer": "ipython3",
   "version": "3.11.6"
  }
 },
 "nbformat": 4,
 "nbformat_minor": 5
}
